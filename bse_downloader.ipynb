{
 "cells": [
  {
   "cell_type": "code",
   "execution_count": 12,
   "id": "70e76ef0",
   "metadata": {
    "ExecuteTime": {
     "end_time": "2024-08-07T18:07:46.690663500Z",
     "start_time": "2024-08-07T18:07:46.628299600Z"
    }
   },
   "outputs": [],
   "source": [
    "import os\n",
    "import urllib\n",
    "import zipfile\n",
    "import requests\n",
    "from pathlib import Path\n",
    "from datetime import datetime, timedelta, date\n",
    "import pandas as pd\n",
    "from sqlalchemy import create_engine\n",
    "from sqlalchemy.sql import text\n",
    "import time\n",
    "import warnings\n",
    "warnings.filterwarnings('ignore')\n",
    "\n",
    "# database configuration\n",
    "HOST = \"Anon-L\"\n",
    "DB = \"master\"\n",
    "DRIVER = \"ODBC+Driver+17+for+SQL+Server\"\n",
    "\n",
    "ERROR_TABLE_NAME = \"bse_error_dates\"\n",
    "HISTORY_TABLE = \"bse_history\"\n",
    "BHAVCOPY_FOLDER = \"bse_bhavcopies\"\n",
    "\n",
    "CREATE_ERROR_TABLE_QUERY = f\"\"\"IF NOT EXISTS (SELECT * FROM sysobjects WHERE name='{ERROR_TABLE_NAME}' and xtype='U')\n",
    "                                create table {ERROR_TABLE_NAME}(id int primary key identity(1,1), [date] date not null,\n",
    "                                timestamp datetime default current_timestamp)\"\"\"\n",
    "\n",
    "CREATE_BSE_HISTORY_TABLE_QUERY = f\"\"\"IF NOT EXISTS (SELECT * FROM sysobjects WHERE name='{HISTORY_TABLE}' and xtype='U')\n",
    "                                CREATE TABLE {HISTORY_TABLE}(\n",
    "                                [id] [bigint] primary key identity(1,1),\n",
    "                                [Date] [date],\n",
    "                                [Symbol] [varchar](max),\n",
    "                                [Open] [float] NULL,\n",
    "                                [High] [float] NULL,\n",
    "                                [Low] [float] NULL,\n",
    "                                [Close] [float] NULL,\n",
    "                                [Last] [float] NULL,\n",
    "                                [Prev Close] [float] NULL,\n",
    "                                [Volume] [bigint] NULL,\n",
    "                                [NO_TRADES] [bigint] NULL,\n",
    "                                [SC_CODE] [bigint],\n",
    "                                [SC_GROUP] [varchar](max),\n",
    "                                [SC_TYPE] [varchar](max),\n",
    "                                [NET_TURNOV] [float] NULL,\n",
    "                                [ISIN_CODE] [varchar](max) NULL,\n",
    "                                timestamp datetime default current_timestamp)\"\"\"\n",
    "\n",
    "REQUIRED_COLUMNS = ['Date', 'SC_CODE', 'Symbol', 'SC_GROUP', 'Open', 'High', 'Low', 'Close', 'Last', \n",
    "                    'Prev Close', 'Volume', 'ISIN_CODE']\n",
    "\n",
    "column_mappings = {\n",
    "    \"date\": \"Date\", \"symbol\": \"Symbol\", \"pclose\": \"Prev Close\", \"open\": \"Open\", \"high\": \"High\", \"low\":\"Low\", \"close\": \"Close\",\n",
    "    \"vwap\": \"VWAP\", \"volume\": \"Volume\", \"trades\": \"Trades\", \"dvolume\": \"Deliverable Volume\", \"pdeliverble\":\"%Deliverble\",\n",
    "    \"series\": \"Series\", \"last\": \"Last\"}\n",
    "\n",
    "engine = create_engine(f'mssql+pyodbc://{HOST}/{DB}?trusted_connection=yes&driver={DRIVER}')\n",
    "conn = engine.connect()\n",
    "realpath_bhavcopy = os.path.join(os.getcwd(), BHAVCOPY_FOLDER)\n",
    "if not os.path.exists(realpath_bhavcopy):\n",
    "    os.mkdir(realpath_bhavcopy)\n",
    "\n",
    "def execute_sql(query, commit=False):\n",
    "    result = conn.execute(text(query))\n",
    "    if commit:\n",
    "        conn.commit()\n",
    "    return result\n",
    "\n",
    "    \n",
    "execute_sql(CREATE_ERROR_TABLE_QUERY, commit=True)\n",
    "execute_sql(CREATE_BSE_HISTORY_TABLE_QUERY, commit=True)\n",
    "\n",
    "\n",
    "def convert_strto_datetime(date_time):\n",
    "    try:\n",
    "        datetime_str = datetime.strptime(date_time, '%d-%b-%Y')\n",
    "    except ValueError:\n",
    "        datetime_str = datetime.strptime(date_time, '%d-%m-%Y')\n",
    "    return datetime_str\n",
    "\n",
    "def if_exists(tablename, date=None, df=None):\n",
    "    DUPLICATE_CHECK_QUERY = \"\"\"select * from {TABLENAME} where {DATE_COL}='{DATE}' \n",
    "                                and {SYMBOL_COL}='{SYMBOL}'\"\"\"\n",
    "    SINGLE_CHECK_QUERY = \"select * from {TABLENAME} where {DATE_COL}='{DATE}'\"\n",
    "    result = None\n",
    "    if date:\n",
    "        result = execute_sql(SINGLE_CHECK_QUERY.format(TABLENAME=tablename, DATE_COL=column_mappings[\"date\"],\n",
    "                                                           DATE=date)).fetchone()\n",
    "        \n",
    "    elif df is not None:\n",
    "        rand_rec = df.sample()\n",
    "        rand_rec = rand_rec.to_dict(\"records\")[0]\n",
    "        result = execute_sql(DUPLICATE_CHECK_QUERY.format(TABLENAME=tablename, \n",
    "                                                           DATE_COL=column_mappings[\"date\"],\n",
    "                                                           SYMBOL_COL=column_mappings[\"symbol\"], \n",
    "                                                           DATE=rand_rec[column_mappings[\"date\"]],\n",
    "                                                           SYMBOL=rand_rec[column_mappings[\"symbol\"]])).fetchone()\n",
    "    if result:\n",
    "        return True\n",
    "    return False\n",
    "        \n",
    "\n",
    "def download(download_url, fpath):\n",
    "    headers = {\n",
    "      'authority': 'www.bseindia.com',\n",
    "      'accept': 'text/html,application/xhtml+xml,application/xml;q=0.9,image/webp,image/apng,*/*;q=0.8,application/signed-exchange;v=b3;q=0.9',\n",
    "      'accept-language': 'en-US,en;q=0.9',\n",
    "      'referer': 'https://www.bseindia.com/markets/marketinfo/BhavCopy.aspx',\n",
    "      'user-agent': 'Mozilla/5.0 (Windows NT 10.0; Win64; x64) AppleWebKit/537.36 \\\n",
    "                      (KHTML, like Gecko) Chrome/106.0.0.0 Safari/537.36 Edg/106.0.1370.42'\n",
    "    }\n",
    "    with open(fpath, \"wb\") as fp:\n",
    "        r = requests.get(download_url, stream=True, verify=False, headers=headers)\n",
    "        if r.ok:\n",
    "            fp.write(r.content)\n",
    "    return True\n",
    "\n",
    "def full_bhavcopy_bse(trading_date, folder):\n",
    "    \"\"\"\n",
    "    Example url https://www.bseindia.com/download/BhavCopy/Equity/BhavCopy_BSE_CM_0_0_0_20240806_F_0000.CSV\n",
    "    :param trading_date: \n",
    "    :param folder: \n",
    "    :return: \n",
    "    \"\"\"\n",
    "    filename = f\"{'%02d'%trading_date.year}{'%02d'%trading_date.month}{'%02d'%trading_date.day}_F_0000.CSV\" \n",
    "    csv_path = os.path.join(folder, filename)\n",
    "    download_url = f'https://www.bseindia.com/download/BhavCopy/Equity/BhavCopy_BSE_CM_0_0_0_{filename}'\n",
    "    if not os.path.exists(csv_path):\n",
    "        if not download(download_url, csv_path):\n",
    "            return None\n",
    "    return csv_path\n",
    "\n",
    "def clean_df(filepath):\n",
    "    df = pd.read_csv(filepath)\n",
    "    df = df.rename(columns={\"TckrSymb\": column_mappings[\"symbol\"], \"OpnPric\": column_mappings[\"open\"], \n",
    "                            \"HghPric\":column_mappings[\"high\"], \"LwPric\":column_mappings[\"low\"],\n",
    "                            \"ClsPric\":column_mappings[\"close\"], \"TtlTradgVol\":column_mappings[\"volume\"],\n",
    "                            \"PrvsClsgPric\":column_mappings[\"pclose\"], \"TradDt\":column_mappings[\"date\"], \n",
    "                            \"LastPric\": column_mappings[\"last\"], \"FinInstrmId\": \"SC_CODE\", \"SctySrs\": \"SC_GROUP\",\n",
    "                            \"ISIN\": \"ISIN_CODE\"\n",
    "                            })\n",
    "    \n",
    "    return df[REQUIRED_COLUMNS]\n",
    "\n",
    "def save_bc(trading_date):\n",
    "    filepath = full_bhavcopy_bse(trading_date, BHAVCOPY_FOLDER)\n",
    "    df = clean_df(filepath)\n",
    "    df.to_sql(HISTORY_TABLE, engine, index=False, if_exists=\"append\")\n",
    "    print(f\"Downloaded data for {trading_date.strftime('%d-%b-%Y')}\")\n",
    "    return df"
   ]
  },
  {
   "cell_type": "markdown",
   "id": "af19125f",
   "metadata": {},
   "source": []
  },
  {
   "cell_type": "markdown",
   "id": "36b3754b",
   "metadata": {},
   "source": [
    "## download data from existing table based on last date"
   ]
  },
  {
   "cell_type": "code",
   "execution_count": null,
   "id": "d5b703f9",
   "metadata": {},
   "outputs": [],
   "source": [
    "last_date = execute_sql(f\"select top(1){column_mappings['date']} from {HISTORY_TABLE} order by {column_mappings['date']} DESC\").fetchone()\n",
    "if not last_date:\n",
    "    last_date = date.today() - timedelta(days=7)\n",
    "print(f\"last date found in database is {getattr(last_date,column_mappings['date']).strftime('%d-%b-%Y')}\")\n",
    "next_date = getattr(last_date,column_mappings['date'])\n",
    "yesterday = date.today()-timedelta(days=1)\n",
    "while True:\n",
    "    try:\n",
    "        if yesterday < next_date:\n",
    "            break\n",
    "        next_date = next_date+timedelta(days=1)\n",
    "        if next_date.weekday() < 5:\n",
    "    #         print(next_date.strftime('%d-%b-%Y'))\n",
    "            try:\n",
    "                if if_exists(HISTORY_TABLE, next_date):\n",
    "                    print(f\"Data already exists for {next_date.strftime('%d-%b-%Y')} in {HISTORY_TABLE} table\")\n",
    "                    continue\n",
    "                df = save_bc(next_date)\n",
    "            except Exception as e:\n",
    "                print(f\"error occured on {next_date.strftime('%d-%b-%Y')}\")\n",
    "                execute_sql(f\"insert into {ERROR_TABLE_NAME}([date]) values('{next_date}')\", commit=True)\n",
    "                continue\n",
    "        time.sleep(1)\n",
    "    except KeyboardInterrupt:\n",
    "        print(\"Download interrupted..\")\n",
    "        break"
   ]
  },
  {
   "cell_type": "code",
   "execution_count": 17,
   "id": "7a7a8966-f2cc-4f2a-b1af-7b60613a6f0d",
   "metadata": {
    "ExecuteTime": {
     "end_time": "2024-08-06T16:49:08.460634700Z",
     "start_time": "2024-08-06T16:49:08.429437300Z"
    }
   },
   "outputs": [],
   "source": []
  },
  {
   "cell_type": "markdown",
   "id": "645ed871",
   "metadata": {},
   "source": [
    "## Download data for the date in error table"
   ]
  },
  {
   "cell_type": "code",
   "execution_count": null,
   "id": "b1f91198",
   "metadata": {},
   "outputs": [],
   "source": [
    "err_dates = execute_sql(f\"select [date] as {column_mappings['date']} from {ERROR_TABLE_NAME}\").fetchall()\n",
    "for d in err_dates:\n",
    "    try:\n",
    "#         print(d[column_mappings[\"date\"]].strftime('%d-%b-%Y'))\n",
    "        save_bc(getattr(d, column_mappings[\"date\"]))\n",
    "        execute_sql(f\"delete {ERROR_TABLE_NAME} where date='{d[column_mappings['date']]}'\", commit=True)\n",
    "    except Exception as e:\n",
    "        print(e)\n",
    "    time.sleep(1)\n",
    "        "
   ]
  },
  {
   "cell_type": "markdown",
   "id": "9c0fc912",
   "metadata": {},
   "source": [
    "## Download data for a Single day"
   ]
  },
  {
   "cell_type": "code",
   "execution_count": 13,
   "id": "d4d216ac",
   "metadata": {
    "ExecuteTime": {
     "end_time": "2024-08-07T18:07:54.260289Z",
     "start_time": "2024-08-07T18:07:52.889166800Z"
    }
   },
   "outputs": [
    {
     "name": "stdout",
     "output_type": "stream",
     "text": [
      "https://www.bseindia.com/download/BhavCopy/Equity/BhavCopy_BSE_CM_0_0_0_20240701_F_0000.CSV\n",
      "Downloaded data for 01-Jul-2024\n"
     ]
    }
   ],
   "source": [
    "download_date = \"01-07-2024\"                #dd/mm/yyyy\n",
    "\n",
    "dt = convert_strto_datetime(download_date)\n",
    "if dt.weekday() > 4:\n",
    "    print(f\"Sorry its a weekend.. {download_date}\")\n",
    "elif if_exists(HISTORY_TABLE, dt):\n",
    "    print(f\"Data already exists for {download_date} in {HISTORY_TABLE} table\")\n",
    "else:\n",
    "    df = save_bc(dt)"
   ]
  },
  {
   "cell_type": "code",
   "execution_count": null,
   "id": "e6db9fd2",
   "metadata": {},
   "outputs": [],
   "source": []
  },
  {
   "cell_type": "code",
   "execution_count": null,
   "id": "0277b410-5e74-40fa-9f67-78cd989d0c13",
   "metadata": {},
   "outputs": [],
   "source": []
  }
 ],
 "metadata": {
  "kernelspec": {
   "display_name": "Python 3 (ipykernel)",
   "language": "python",
   "name": "python3"
  },
  "language_info": {
   "codemirror_mode": {
    "name": "ipython",
    "version": 3
   },
   "file_extension": ".py",
   "mimetype": "text/x-python",
   "name": "python",
   "nbconvert_exporter": "python",
   "pygments_lexer": "ipython3",
   "version": "3.10.4"
  }
 },
 "nbformat": 4,
 "nbformat_minor": 5
}
